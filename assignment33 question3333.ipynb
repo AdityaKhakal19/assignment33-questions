{
 "cells": [
  {
   "cell_type": "code",
   "execution_count": null,
   "id": "442f0bc7",
   "metadata": {},
   "outputs": [],
   "source": [
    "#1.Python Program to Find the Square Root.\n",
    "x=int(input(\"Enter the number\"))\n",
    "y=x**0.5\n",
    "print(\"The square root of number is\", y)\n"
   ]
  },
  {
   "cell_type": "code",
   "execution_count": null,
   "id": "0e4df872",
   "metadata": {},
   "outputs": [],
   "source": [
    "#2.Python Program to Calculate the Area of a Triangle\n",
    "b=int(input(\"Enter the base of triangle\"))\n",
    "h=int(input(\"Enter the height of traingle\"))\n",
    "area=(b*h)/2\n",
    "print(\"The area of traingle is\",area)"
   ]
  },
  {
   "cell_type": "code",
   "execution_count": null,
   "id": "49a62f22",
   "metadata": {},
   "outputs": [],
   "source": [
    "#3 swap the variable\n",
    "x=input(\"enter the first variable\")\n",
    "y=input(\"enter the second variable\")\n",
    "x=y\n",
    "print(x)\n",
    "y=x\n",
    "print(y)\n",
    "c=y\n",
    "print(\"the swaped variables are\",c)"
   ]
  },
  {
   "cell_type": "code",
   "execution_count": null,
   "id": "19f525ca",
   "metadata": {},
   "outputs": [],
   "source": [
    "#4.Python Program to Convert Kilometers to Miles .\n",
    "km = int(input(\"Enter distance in kilometers: \"))\n",
    "miles = km * 0.621\n",
    "print(\"The conversion of km to miles is\", miles)"
   ]
  },
  {
   "cell_type": "code",
   "execution_count": null,
   "id": "7281f409",
   "metadata": {},
   "outputs": [],
   "source": [
    "#5.Python Program to Convert Celsius To Fahrenheit .\n",
    "celsius=int(input(\"Enter the temperature in celsius\"))\n",
    "fahrenheit = (celsius * 9/5) + 32\n",
    "print(\"the conversion if given C to F is\",fahrenheit )"
   ]
  },
  {
   "cell_type": "code",
   "execution_count": null,
   "id": "4b7178d9",
   "metadata": {},
   "outputs": [],
   "source": [
    "#6.Python Program to Check if a Number is Positive, Negative or 0\n",
    "\n",
    "num =int(input(\"Enter a number: \"))\n",
    "if num > 0:\n",
    "     print(\"The number is positive\")\n",
    "elif num < 0:\n",
    "    print(\"The number is ngeative\")\n",
    "else:\n",
    "    print(\"The num is 0\")\n",
    "    \n",
    "\n",
    "    "
   ]
  },
  {
   "cell_type": "code",
   "execution_count": null,
   "id": "11fb5bc6",
   "metadata": {},
   "outputs": [],
   "source": [
    "#7.Python Program to Check if a Number is Odd or Even.\n",
    "x=int(input(\"enter the number\"))\n",
    "if x%2==0:\n",
    "    print(\"the number is even\")\n",
    "else:\n",
    "    print(\"the number is odd\")"
   ]
  },
  {
   "cell_type": "code",
   "execution_count": null,
   "id": "6008fd79",
   "metadata": {},
   "outputs": [],
   "source": [
    "#8.Python Program to Find the Largest Among Three Numbers.\n",
    "num1=int(input(\"enter the first number\"))\n",
    "num2=int(input(\"enter the second number\"))\n",
    "num3=int(input(\"enter the third number\"))\n",
    "\n",
    "if num1 >= num2 and num1>=num3:\n",
    "    print(\"the largest number is \",num1)\n",
    "elif num2>= num3 and num2>=num3:\n",
    "    print(\"the largest number is\",num2)\n",
    "else:\n",
    "    print(\"the largest num is the last number you have entered\")"
   ]
  },
  {
   "cell_type": "code",
   "execution_count": null,
   "id": "800e3cba",
   "metadata": {},
   "outputs": [],
   "source": [
    "#9.Python Program to Check Prime Number.\n",
    "a=int(input(\"ENTER THE RANGE TO GET THE PRIME NUMBERS : \"))\n",
    "if a<2:\n",
    "    print(\"PLEASE ENTER VALID RANGE\")\n",
    "else:\n",
    "    for i in range(2,a+1):\n",
    "        #is_prime=True\n",
    "        for j in range(2,int(i**0.5)+1):\n",
    "            if(i%j==0):\n",
    "                print(i,\"not a prime\")\n",
    "                break\n",
    "        else:\n",
    "            print(i,\" is a prime\")    "
   ]
  },
  {
   "cell_type": "code",
   "execution_count": null,
   "id": "1b0e9675",
   "metadata": {},
   "outputs": [],
   "source": [
    "#10.Python Program to Print all Prime Numbers in an Interval.\n",
    "a=int(input(\"ENTER THE RANGE TO GET THE PRIME NUMBERS : \"))\n",
    "if a<2:\n",
    "    print(\"PLEASE ENTER VALID RANGE\")\n",
    "else:\n",
    "    for i in range(2,a+1):\n",
    "        for j in range(2,int(i**0.5)+1):\n",
    "            if(i%j==0):\n",
    "                print(i,\"not a prime\")\n",
    "                break\n",
    "        else:\n",
    "            print(i,\" is a prime\")"
   ]
  },
  {
   "cell_type": "code",
   "execution_count": null,
   "id": "392a6dc1",
   "metadata": {},
   "outputs": [],
   "source": [
    "#11.Python Program to Find the Factorial of a Number.\n",
    "num = int(input(\"Enter a number: \"))\n",
    "x = 1\n",
    "for i in range(1, num + 1):\n",
    "    x*= i\n",
    "print(\"The factorial of\", num, \"is\", x)"
   ]
  },
  {
   "cell_type": "code",
   "execution_count": null,
   "id": "53bf1790",
   "metadata": {},
   "outputs": [],
   "source": [
    "\n",
    "#12.Python Program to Display the multiplication Table Code.\n",
    "\n",
    "num=int(input(\"enter the number\"))\n",
    "for i in range (1,11):\n",
    "    print(num*i)"
   ]
  },
  {
   "cell_type": "code",
   "execution_count": null,
   "id": "84ecf7b7",
   "metadata": {},
   "outputs": [],
   "source": [
    "#13.Python Program to Check Armstrong Number.\n",
    "a=int(input(\"Enter number to check armstrong or not : \"))\n",
    "num_str=str(a)\n",
    "num_len=len(num_str)\n",
    "a_sum=0\n",
    "for i in num_str:\n",
    "    a_sum+=int(i)**num_len\n",
    "if a_sum==a:\n",
    "    print(a,\"number is armstrong number\")\n",
    "else:\n",
    "    print(a,\"number is not a armstrong number\")"
   ]
  },
  {
   "cell_type": "code",
   "execution_count": null,
   "id": "5e8e6326",
   "metadata": {},
   "outputs": [],
   "source": [
    "#14.Python Program to Find Armstrong Number in an Interval.####\n",
    "a1=int(input(\"Enter number to check armstrong or not : \"))\n",
    "for a in range(1,a1+1):\n",
    "    num_str=str(a)\n",
    "    num_len=len(num_str)\n",
    "    a_sum=0\n",
    "    for i in num_str:\n",
    "        a_sum+=int(i)**num_len\n",
    "    if a_sum==a:\n",
    "        print(a,\"number is armstrong number\")"
   ]
  },
  {
   "cell_type": "code",
   "execution_count": null,
   "id": "6e84df7c",
   "metadata": {},
   "outputs": [],
   "source": [
    "#15.Python Program to Find the Sum of Natural Numbers.\n",
    "a=int(input(\"Enter till you want the sum of natural numbers\"))\n",
    "sum=0\n",
    "for i in range(a+1):\n",
    "    sum+=i\n",
    "print(sum)"
   ]
  },
  {
   "cell_type": "code",
   "execution_count": null,
   "id": "1552a14d",
   "metadata": {},
   "outputs": [],
   "source": [
    "#16.Python Program to Find Numbers Divisible by Another Number.\n",
    "a=int(input(\"ENTER NO TO DIVIDE : \"))\n",
    "b=int(input(\"ENTER NO TO DIVIDE BY : \"))\n",
    "if a%b==0:\n",
    "    print(a,\"is divisible by\",b)"
   ]
  },
  {
   "cell_type": "code",
   "execution_count": null,
   "id": "ccac5193",
   "metadata": {},
   "outputs": [],
   "source": [
    "#17.Python Program to Find HCF or GCD.\n",
    "a=int(input(\"enter no : \"))\n",
    "b=int(input(\"enter no : \"))\n",
    "hcf=1\n",
    "s=min(a,b)\n",
    "for i in range(2,s+1):\n",
    "    if a%i==0 and b%i==0:\n",
    "        hcf=i\n",
    "print(hcf)"
   ]
  },
  {
   "cell_type": "code",
   "execution_count": null,
   "id": "85d710d8",
   "metadata": {},
   "outputs": [],
   "source": [
    "#18.Python Program to Find LCM.\n",
    "a=int(input(\"enter no : \"))\n",
    "b=int(input(\"enter no : \"))\n",
    "lcm=max(a,b)\n",
    "for i in range(lcm,a*b+1,lcm):\n",
    "    if i%a==0 and i%b==0:\n",
    "        lcm=i\n",
    "        break\n",
    "print(lcm)\n"
   ]
  },
  {
   "cell_type": "code",
   "execution_count": null,
   "id": "f0d258ee",
   "metadata": {},
   "outputs": [],
   "source": [
    "#19.Python Program to Check Whether a String is Palindrome or Not.\n",
    "a=input(\"ENTER STRING TO CHECK PALINDROME : \")\n",
    "b=list(a)\n",
    "if b==b[::-1]:\n",
    "    print(a,\"palindrome\")\n",
    "else:\n",
    "    print(a,\"is not palindrome\")\n",
    "    "
   ]
  },
  {
   "cell_type": "code",
   "execution_count": null,
   "id": "c793ef82",
   "metadata": {},
   "outputs": [],
   "source": [
    "#20.Python Program to Remove Punctuations From a String.\n",
    "a=\"python , is not , only! sanke\"\n",
    "punc=\"\"\"!;:,.@#$%^&*(){}[]\"'\"\"\"\n",
    "b=\"\"\n",
    "for i in a:\n",
    "    if i not in punc:\n",
    "        b+=i\n",
    "print(b)"
   ]
  },
  {
   "cell_type": "code",
   "execution_count": null,
   "id": "f51d64e5",
   "metadata": {},
   "outputs": [],
   "source": [
    "#21.Python Program to Sort Words in Alphabetic Order.\n",
    "a=\"Python is an interpreted , object-oriented, high-level; programming language\"\n",
    "b=\"\".join(sorted(a))\n",
    "print(b)\n"
   ]
  },
  {
   "cell_type": "code",
   "execution_count": null,
   "id": "1f83451c",
   "metadata": {},
   "outputs": [],
   "source": [
    "# 22.Python Program to Illustrate Different Set Operations\n",
    "# (update,add,issubset,isdisjoin,intersection,union etc)\n",
    "a={1,2,3,4,5}\n",
    "b={5,6,7,8,9}\n",
    "c=a.isdisjoint(b)\n",
    "print(c)\n",
    "a.update(b)\n",
    "print(a)\n",
    "a.add(10)\n",
    "print(a)\n",
    "print(b.issubset(a))\n",
    "print(a.intersection(b))\n",
    "print(a.union(b))\n",
    "a.remove(1)\n",
    "print(a)\n",
    "a.discard(5)\n",
    "print(a)\n",
    "a.clear()\n",
    "print(a)\n"
   ]
  },
  {
   "cell_type": "code",
   "execution_count": null,
   "id": "03cef291",
   "metadata": {},
   "outputs": [],
   "source": [
    "#23.Python Program to Count the Number of Each Vowel.\n",
    "a=\"Python is an interpreted , object-oriented, high-level; programming language\"\n",
    "b=\"aeiouAEIOU\"\n",
    "for i in b:\n",
    "    print(i,a.count(i))"
   ]
  },
  {
   "cell_type": "code",
   "execution_count": null,
   "id": "a4539053",
   "metadata": {},
   "outputs": [],
   "source": [
    "#24.Python program to interchange first and last elements in a list.\n",
    "a=[1,2,3,4,5,6,7,8,9]\n",
    "a[0],a[-1]=a[-1],a[0]\n",
    "print(a)"
   ]
  },
  {
   "cell_type": "code",
   "execution_count": null,
   "id": "4f87ffb9",
   "metadata": {},
   "outputs": [],
   "source": [
    "#25.Python program to find smallest number in a list.\n",
    "a=[1,2,3,4,5,6,7,8,9]\n",
    "print(min(a))"
   ]
  },
  {
   "cell_type": "code",
   "execution_count": null,
   "id": "ff689f80",
   "metadata": {},
   "outputs": [],
   "source": [
    "#26.Python program to find largest number in a list.\n",
    "a=[1,2,3,4,5,6,7,8,9]\n",
    "print(max(a))"
   ]
  },
  {
   "cell_type": "code",
   "execution_count": null,
   "id": "848d7d7e",
   "metadata": {},
   "outputs": [],
   "source": [
    "#27.Python program to print all positive numbers in a range.\n",
    "# a=[-9,-8,-7,-6,-5,-4,-3,-2,-1,0,1,2,3,4,5,6,7,8,9]\n",
    "# for i in a:\n",
    "#     if i>0:\n",
    "#         print(i)\n",
    "a=int(input(\"ENTER THE RANGE YOU WANT : \"))\n",
    "for i in range(1,a+1):\n",
    "    print(i)"
   ]
  },
  {
   "cell_type": "code",
   "execution_count": null,
   "id": "106acf8b",
   "metadata": {},
   "outputs": [],
   "source": [
    "#29.Python program to print all negative numbers in a range.\n",
    "a=int(input(\"ENTER THE RANGE YOU WANT : \"))\n",
    "for i in range(a,1):\n",
    "    print(i)"
   ]
  },
  {
   "cell_type": "code",
   "execution_count": null,
   "id": "d813674a",
   "metadata": {},
   "outputs": [],
   "source": [
    "# 30.Program to print duplicates from a list of integers.\n",
    "# (take any duplicate element in list)\n",
    "a=[0,1,2,3,4,5,6,7,8,9,8,9,4,5]\n",
    "b=[]\n",
    "for i in a:\n",
    "    if i not in b:\n",
    "        b.append(i)\n",
    "    else:\n",
    "        print(i)"
   ]
  },
  {
   "cell_type": "code",
   "execution_count": null,
   "id": "ebaeb05b",
   "metadata": {},
   "outputs": [],
   "source": [
    "#31.Remove multiple elements from a list in Python.(11,5,17,18,23,50)\n",
    "a=[11,5,17,18,23,50]\n",
    "print(a)\n",
    "del a[1:5]\n",
    "print(a)\n",
    "a.clear()\n",
    "print(a)"
   ]
  },
  {
   "cell_type": "code",
   "execution_count": null,
   "id": "7c0de2e5",
   "metadata": {},
   "outputs": [],
   "source": [
    "#32.Given a Python list of numbers. Turn every item of a list into its square Given:\n",
    "List = [1, 2, 3, 4, 5, 6, 7]\n",
    "l1=[]\n",
    "for i in List:\n",
    "    i*=i\n",
    "    l1.append(i)\n",
    "print(l1)"
   ]
  },
  {
   "cell_type": "code",
   "execution_count": null,
   "id": "0271741b",
   "metadata": {},
   "outputs": [],
   "source": [
    "# 33.Given a two Python list. Iterate both lists simultaneously such that\n",
    "# list1 should display item in original order and list2 in reverse order.\n",
    "list1=[10,20,30,40]\n",
    "list2=[100,200,300,400]\n",
    "\n",
    "print(list1,list2[::-1])"
   ]
  }
 ],
 "metadata": {
  "kernelspec": {
   "display_name": "Python 3 (ipykernel)",
   "language": "python",
   "name": "python3"
  },
  "language_info": {
   "codemirror_mode": {
    "name": "ipython",
    "version": 3
   },
   "file_extension": ".py",
   "mimetype": "text/x-python",
   "name": "python",
   "nbconvert_exporter": "python",
   "pygments_lexer": "ipython3",
   "version": "3.11.5"
  }
 },
 "nbformat": 4,
 "nbformat_minor": 5
}
